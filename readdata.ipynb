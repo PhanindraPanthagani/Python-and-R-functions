{
 "cells": [
  {
   "cell_type": "code",
   "execution_count": 1,
   "metadata": {},
   "outputs": [],
   "source": [
    "\n",
    "\n",
    "#Read data \n",
    "\n",
    "def read_data(colnames,collist):\n",
    "    #rownames is a list containing all row names \n",
    "    #oollist is a list of list containing values in each column \n",
    "    ncols=len(colnames)\n",
    "    data_dictionary= {}\n",
    "    count = 0\n",
    "    for col in colnames : \n",
    "        data_dictionary[col]= collist[count]\n",
    "        count = count+1\n",
    "        \n",
    "    return data_dictionary\n"
   ]
  },
  {
   "cell_type": "code",
   "execution_count": 2,
   "metadata": {},
   "outputs": [],
   "source": [
    "#Reading Problem 1 data \n",
    "colnames_prob1= ['Claim Number','Accident Year','Report Year','Transaction Date','Loss Payment','Case Reserve Balance']\n",
    "collist_prob1 = [[1,1,1,2,2,3,3,3],[2007,2007,2007,2007,2007,2008,2008,2008],[2007,2007,2007,2008,2008,2008,2008,2008],\n",
    "           ['1-Apr-07','1-Jul-08','1-Jun-09','1-May-08','1-Jul-09','1-Aug-08','1-Mar-09','1-Jul-10'],\n",
    "                 [200,400,1000,1000,400,100,200,400],\n",
    "                [600,1200,0,400,0,400,100,0]]\n",
    "data_dict_prob1 = read_data(colnames_prob1,collist_prob1)"
   ]
  },
  {
   "cell_type": "code",
   "execution_count": 3,
   "metadata": {},
   "outputs": [],
   "source": [
    "#Reading Problem 2 data \n",
    "colnames_prob2= ['Policy','Number of Vehicles','Effective Date','Expiration Date']\n",
    "collist_prob2 = [['A','B','C','D','E'],[2,3,1,2,1],['January 1,2018','March 1,2018','July 1,2018','October 1,2018','November 1,2018'],\n",
    "                 ['June 30,2018','August 31,2018','December 31,2018','March 31,2019','April 30,2019']]\n",
    "                 \n",
    "data_dict_prob2 = read_data(colnames_prob2,collist_prob2)\n"
   ]
  },
  {
   "cell_type": "code",
   "execution_count": 4,
   "metadata": {},
   "outputs": [],
   "source": [
    "#Reading Problem 3 data \n",
    "colnames_prob3= ['Name','2016 Expense Ratio','2017 Expense Ratio','2018($000S)']\n",
    "collist_prob3 = [['Direct Premium Written','Direct Premium Earned','Commision and Brokerage Expenses Incurred',\n",
    "                  'Other Acquisition Expense Incurred','General Expenses','Taxes License & Fees Incurred'],\n",
    "                 ['','','12%','12.8%','15.0%','2.1%'],['','','13%','12.7%','5.5%','2.2%'],[1000*6100,1000*5920,1000*945,1000*760,1000*325,1000*130]]\n",
    "                 \n",
    "data_dict_prob3 = read_data(colnames_prob3,collist_prob3)\n"
   ]
  },
  {
   "cell_type": "code",
   "execution_count": 5,
   "metadata": {},
   "outputs": [
    {
     "data": {
      "text/plain": [
       "{'EarnedPremiumtable': {'Calendar Year': [2017, 2018],\n",
       "  'Earned Premium($)': [3850000, 4200000]},\n",
       " 'RateChangetable': {'Rate Change Effective date': ['January 1,2017',\n",
       "   'July 1,2017'],\n",
       "  'Overall Rate Change': ['10%', '5%']},\n",
       " 'WrittenPremiumtable': {'Quarter and Year': ['2Q 2016',\n",
       "   '4Q 2016',\n",
       "   '2Q 2017',\n",
       "   '4Q 2017',\n",
       "   '2Q 2018',\n",
       "   '4Q 2018'],\n",
       "  'Average Written Premium at Current Rate Level': ['$1771',\n",
       "   '$1806',\n",
       "   '$1840',\n",
       "   '$1877',\n",
       "   '$1914',\n",
       "   '$1953']}}"
      ]
     },
     "execution_count": 5,
     "metadata": {},
     "output_type": "execute_result"
    }
   ],
   "source": [
    "#Reading Problem 4 data \n",
    "#EarnedPremiumtable\n",
    "colnames_prob4_EarnedPremiumtable =['Calendar Year','Earned Premium($)']\n",
    "collist_prob4_EarnedPremiumtable = [[2017,2018],[3850000,4200000]]\n",
    "data_dict_prob4_EarnedPremiumtable = read_data(colnames_prob4_EarnedPremiumtable,collist_prob4_EarnedPremiumtable)\n",
    "#RateChange Table\n",
    "colnames_prob4_RateChangetable= ['Rate Change Effective date','Overall Rate Change']\n",
    "collist_prob4_RateChangetable = [['January 1,2017','July 1,2017'],['10%','5%']]\n",
    "data_dict_prob4_RateChangetable= read_data(colnames_prob4_RateChangetable,collist_prob4_RateChangetable)\n",
    "\n",
    "\n",
    "#Written Premium Table name\n",
    "colnames_prob4_WrittenPremiumtable =['Quarter and Year','Average Written Premium at Current Rate Level']\n",
    "collist_prob4_WrittenPremiumtable = [['2Q 2016','4Q 2016','2Q 2017','4Q 2017','2Q 2018','4Q 2018'],\n",
    "                                     ['$1771','$1806','$1840','$1877','$1914','$1953']]\n",
    "data_dict_prob4_WrittenPremiumtable= read_data(colnames_prob4_WrittenPremiumtable,collist_prob4_WrittenPremiumtable)\n",
    "\n",
    "# data_dict_prob4\n",
    "data_dict_prob4 = { 'EarnedPremiumtable' : data_dict_prob4_EarnedPremiumtable,\n",
    "                    'RateChangetable'   : data_dict_prob4_RateChangetable,\n",
    "                    'WrittenPremiumtable' :data_dict_prob4_WrittenPremiumtable}\n",
    "\n",
    "data_dict_prob4\n"
   ]
  },
  {
   "cell_type": "code",
   "execution_count": 6,
   "metadata": {},
   "outputs": [
    {
     "data": {
      "text/plain": [
       "{'PremiumTransactions': {'Policy': ['A', 'A', 'B', 'C', 'C'],\n",
       "  'Original Effective Date': ['July 1,2016',\n",
       "   'July 1,2016',\n",
       "   'April 1,2017',\n",
       "   'October 1,2017',\n",
       "   'October 1,2017'],\n",
       "  'Original Expiration Date': ['June 30,2017',\n",
       "   'June 30,2017',\n",
       "   'March 31,2018',\n",
       "   'September 30,2018',\n",
       "   'September 30,2018'],\n",
       "  'Transaction Effective Date': ['July 1,2016',\n",
       "   'April 1,2017',\n",
       "   'April 1,2017',\n",
       "   'October 1,2017',\n",
       "   'April 1,2018'],\n",
       "  'Full-Term Premium($)': [800, 400, 1000, 500, 'N/A'],\n",
       "  'Notes': ['Start of New Policy',\n",
       "   'Additional Premium to Endorsement',\n",
       "   'Start of New Policy',\n",
       "   'Start of New Policy',\n",
       "   'Policy Canceled']},\n",
       " 'LossTransactions': {'Policy': ['A', 'A', 'B', 'C'],\n",
       "  'Accident Date': ['October 1,2016',\n",
       "   'January 1,2017',\n",
       "   'October 1,2017',\n",
       "   'January 1,2018'],\n",
       "  'Payment Date': ['October 15,2016',\n",
       "   'January 15,2017',\n",
       "   'January 15,2018',\n",
       "   'January 15,2018'],\n",
       "  'Loss Payment($)': [500, 200, 500, 750]}}"
      ]
     },
     "execution_count": 6,
     "metadata": {},
     "output_type": "execute_result"
    }
   ],
   "source": [
    "#Reading Problem 5 data \n",
    "#PremiumTransactions\n",
    "colnames_prob5_PremiumTransactions =['Policy','Original Effective Date','Original Expiration Date','Transaction Effective Date',\n",
    "                                    'Full-Term Premium($)','Notes']\n",
    "collist_prob5_PremiumTransactions = [['A','A','B','C','C'],['July 1,2016','July 1,2016','April 1,2017','October 1,2017','October 1,2017'],\n",
    "                                    ['June 30,2017','June 30,2017','March 31,2018','September 30,2018','September 30,2018'],\n",
    "                                    ['July 1,2016','April 1,2017','April 1,2017','October 1,2017','April 1,2018'],\n",
    "                                    [800,400,1000,500,'N/A'],['Start of New Policy','Additional Premium to Endorsement',\n",
    "                                                             'Start of New Policy','Start of New Policy','Policy Canceled']]\n",
    "data_dict_prob5_PremiumTransactions = read_data(colnames_prob5_PremiumTransactions,collist_prob5_PremiumTransactions)\n",
    "\n",
    "#Loss Transactions\n",
    "colnames_prob5_LossTransactions =['Policy','Accident Date','Payment Date','Loss Payment($)']\n",
    "collist_prob5_LossTransactions=[['A','A','B','C'],['October 1,2016','January 1,2017','October 1,2017','January 1,2018'],\n",
    "                               ['October 15,2016','January 15,2017','January 15,2018','January 15,2018'],\n",
    "                               [500,200,500,750]]\n",
    "\n",
    "data_dict_prob5_LossTransactions = read_data(colnames_prob5_LossTransactions,collist_prob5_LossTransactions)\n",
    "\n",
    "\n",
    "# data_dict_prob5\n",
    "data_dict_prob5 = { 'PremiumTransactions' : data_dict_prob5_PremiumTransactions,\n",
    "                    'LossTransactions'   : data_dict_prob5_LossTransactions}\n",
    "\n",
    "data_dict_prob5\n"
   ]
  },
  {
   "cell_type": "code",
   "execution_count": 9,
   "metadata": {},
   "outputs": [],
   "source": [
    "#Reading Problem 6 data \n",
    "colnames_prob6= ['Effective Date','Overall Average Rate Change','Rate Per Exposure($)','Class Factor X',\n",
    "                 'Class Factor Y','Class Factor Z','Expense Fee($)']\n",
    "collist_prob6 = [['January 1,2016','July 1,2017','October 1,2017','April 1,2018'],['0.0%','10.0%','0.0%','1.0%'],\n",
    "                ['1,000','1,112','1,175','1,175'],[1.2,1.2,1.1,1.1],[0.85,0.85,0.85,0.75],[1.0,1.0,1.0,1.0],\n",
    "                 [120,120,120,132]]\n",
    "                 \n",
    "data_dict_prob6 = read_data(colnames_prob6,collist_prob6)\n"
   ]
  },
  {
   "cell_type": "code",
   "execution_count": 10,
   "metadata": {},
   "outputs": [],
   "source": [
    "import pickle\n",
    "\n",
    "datapicklefile = {'data_dict_prob1': data_dict_prob1,\n",
    "                 'data_dict_prob2': data_dict_prob2,\n",
    "                 'data_dict_prob3': data_dict_prob3,\n",
    "                 'data_dict_prob4': data_dict_prob4,\n",
    "                 'data_dict_prob5': data_dict_prob5,\n",
    "                 'data_dict_prob6': data_dict_prob6}\n",
    "\n"
   ]
  },
  {
   "cell_type": "code",
   "execution_count": 11,
   "metadata": {},
   "outputs": [
    {
     "name": "stdout",
     "output_type": "stream",
     "text": [
      "True\n"
     ]
    }
   ],
   "source": [
    "#Dump the dictionary above into a pickle file \n",
    "with open('data.pickle', 'wb') as handle:\n",
    "    pickle.dump(datapicklefile, handle, protocol=pickle.HIGHEST_PROTOCOL)\n",
    "\n",
    "with open('data.pickle', 'rb') as handle:\n",
    "    b = pickle.load(handle)\n",
    "\n",
    "print(datapicklefile == b)\n"
   ]
  },
  {
   "cell_type": "code",
   "execution_count": null,
   "metadata": {},
   "outputs": [],
   "source": []
  },
  {
   "cell_type": "code",
   "execution_count": null,
   "metadata": {},
   "outputs": [],
   "source": []
  }
 ],
 "metadata": {
  "kernelspec": {
   "display_name": "Python 3",
   "language": "python",
   "name": "python3"
  },
  "language_info": {
   "codemirror_mode": {
    "name": "ipython",
    "version": 3
   },
   "file_extension": ".py",
   "mimetype": "text/x-python",
   "name": "python",
   "nbconvert_exporter": "python",
   "pygments_lexer": "ipython3",
   "version": "3.6.10"
  }
 },
 "nbformat": 4,
 "nbformat_minor": 4
}
